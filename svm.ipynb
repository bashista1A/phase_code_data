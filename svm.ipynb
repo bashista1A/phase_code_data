{
 "cells": [
  {
   "cell_type": "code",
   "execution_count": 1,
   "metadata": {},
   "outputs": [],
   "source": [
    "import numpy as np\n",
    "import pandas as pd\n",
    "import random\n",
    "import tensorflow as tf\n",
    "from sklearn.model_selection import train_test_split\n",
    "from sklearn.preprocessing import StandardScaler\n",
    "from sklearn.svm import SVC\n",
    "from sklearn.model_selection import GridSearchCV\n",
    "import matplotlib.pyplot as plt\n",
    "from sklearn.metrics import accuracy_score"
   ]
  },
  {
   "cell_type": "code",
   "execution_count": 2,
   "metadata": {},
   "outputs": [
    {
     "name": "stdout",
     "output_type": "stream",
     "text": [
      "The shape of input X is (383, 25)\n",
      "The shape of output Y is (383,)\n"
     ]
    }
   ],
   "source": [
    "df = pd.read_excel('phase_sheet.xlsx')\n",
    "data = df.to_numpy()\n",
    "X = data[:,list(range(25))]\n",
    "Y = data[:,25]\n",
    "Y = Y - 1\n",
    "Y = Y.astype(int)\n",
    "X = X.astype(int)\n",
    "\n",
    "print(f'The shape of input X is {X.shape}')\n",
    "print(f'The shape of output Y is {Y.shape}')"
   ]
  },
  {
   "cell_type": "code",
   "execution_count": 3,
   "metadata": {},
   "outputs": [
    {
     "name": "stdout",
     "output_type": "stream",
     "text": [
      "The shape of training set(input) is: (383, 25)\n",
      "The shape of training set(output) is: (383,)\n",
      "The shape of CV set(input) is: (57, 25)\n",
      "The shape of CV set(output) is: (57,)\n",
      "The shape of test set(input) is: (58, 25)\n",
      "The shape of test set(output) is: (58,)\n"
     ]
    }
   ],
   "source": [
    "X_train = X\n",
    "Y_train = Y\n",
    "X_temp, X_, Y_temp, Y_= train_test_split(X, Y, test_size=0.30, random_state = 23)\n",
    "X_cv,X_test,Y_cv,Y_test = train_test_split(X_, Y_, test_size=0.50, random_state = 23)\n",
    "print(f'The shape of training set(input) is: {X_train.shape}')\n",
    "print(f'The shape of training set(output) is: {Y_train.shape}')\n",
    "print(f'The shape of CV set(input) is: {X_cv.shape}')\n",
    "print(f'The shape of CV set(output) is: {Y_cv.shape}')\n",
    "print(f'The shape of test set(input) is: {X_test.shape}')\n",
    "print(f'The shape of test set(output) is: {Y_test.shape}')"
   ]
  },
  {
   "cell_type": "code",
   "execution_count": 4,
   "metadata": {},
   "outputs": [],
   "source": [
    "# # Define SVM parameters\n",
    "# svm_params = {\n",
    "#     'kernel': 'linear',\n",
    "#     'C': 1.0,\n",
    "#     'decision_function_shape': 'ovr',\n",
    "#     'gamma': 1.0,  # You can set a specific value if needed\n",
    "# }\n"
   ]
  },
  {
   "cell_type": "code",
   "execution_count": 5,
   "metadata": {},
   "outputs": [],
   "source": [
    "svm_params = {\n",
    "    'kernel': 'rbf',\n",
    "    'C': 1,\n",
    "    'decision_function_shape': 'ovr',\n",
    "    'gamma': 1,  # You can set a specific value if needed\n",
    "}"
   ]
  },
  {
   "cell_type": "code",
   "execution_count": 6,
   "metadata": {},
   "outputs": [],
   "source": [
    "# best_model = SVC(**svm_params)\n",
    "# best_model.fit(X_train,Y_train)\n",
    "# flag = 1"
   ]
  },
  {
   "cell_type": "code",
   "execution_count": 7,
   "metadata": {},
   "outputs": [
    {
     "name": "stdout",
     "output_type": "stream",
     "text": [
      "0.001\n",
      "0.01\n",
      "0.1\n",
      "1\n"
     ]
    }
   ],
   "source": [
    "c_range = [0.001, 0.01, 0.1,1]\n",
    "gamma_range = ['auto', 'scale', 0.1, 1]\n",
    "best_model = None\n",
    "flag = 0\n",
    "cmp_accuracy = 0\n",
    "\n",
    "for c_value in c_range:\n",
    "    print(c_value)\n",
    "    for gamma in gamma_range:\n",
    "        # for degree in degree_range:\n",
    "            svm_params['C'] = c_value\n",
    "            svm_params['gamma'] = gamma\n",
    "            # svm_params['degree'] = degree\n",
    "            model = SVC(**svm_params)\n",
    "            model.fit(X_train, Y_train)\n",
    "\n",
    "            Y_train_hat = model.predict(X_train)\n",
    "            train_accuracy = accuracy_score(Y_train,Y_train_hat)\n",
    "\n",
    "            Y_cv_hat = model.predict(X_cv)\n",
    "            val_accuracy = accuracy_score(Y_cv,Y_cv_hat)\n",
    "\n",
    "            Y_test_hat = model.predict(X_test)\n",
    "            test_accuracy = accuracy_score(Y_test,Y_test_hat)\n",
    "\n",
    "            if train_accuracy>0.9 and train_accuracy > test_accuracy:\n",
    "                flag = 1\n",
    "                cmp_accuracy = val_accuracy\n",
    "                best_model = model "
   ]
  },
  {
   "cell_type": "code",
   "execution_count": 8,
   "metadata": {},
   "outputs": [
    {
     "name": "stdout",
     "output_type": "stream",
     "text": [
      "Training Accuracy: 0.95822454308094\n",
      "Validation Accuracy: 0.9649122807017544\n",
      "Testing Accuracy: 0.9482758620689655\n"
     ]
    }
   ],
   "source": [
    "if flag == 1:    \n",
    "    Y_train_hat = best_model.predict(X_train)\n",
    "    train_accuracy = accuracy_score(Y_train,Y_train_hat)\n",
    "    print(f'Training Accuracy: {train_accuracy}')\n",
    "\n",
    "    Y_cv_hat = best_model.predict(X_cv)\n",
    "    val_accuracy = accuracy_score(Y_cv,Y_cv_hat)\n",
    "    print(f'Validation Accuracy: {val_accuracy}')\n",
    "\n",
    "    Y_test_hat = best_model.predict(X_test)\n",
    "    test_accuracy = accuracy_score(Y_test,Y_test_hat)\n",
    "    print(f'Testing Accuracy: {test_accuracy}')"
   ]
  },
  {
   "cell_type": "code",
   "execution_count": 9,
   "metadata": {},
   "outputs": [
    {
     "name": "stdout",
     "output_type": "stream",
     "text": [
      "{'kernel': 'rbf', 'C': 1, 'decision_function_shape': 'ovr', 'gamma': 1}\n"
     ]
    }
   ],
   "source": [
    "print(svm_params)"
   ]
  },
  {
   "cell_type": "code",
   "execution_count": 10,
   "metadata": {},
   "outputs": [
    {
     "data": {
      "image/png": "[encoded data removed]",
      "text/plain": [
       "<Figure size 1200x800 with 1 Axes>"
      ]
     },
     "metadata": {},
     "output_type": "display_data"
    }
   ],
   "source": [
    "import seaborn as sns\n",
    "from sklearn.metrics import confusion_matrix\n",
    "import matplotlib.pyplot as plt\n",
    "\n",
    "# Assuming your predictions are stored in 'y_pred'\n",
    "conf_matrix = confusion_matrix(Y_train, Y_train_hat)\n",
    "\n",
    "plt.figure(figsize=(12, 8))\n",
    "sns.heatmap(conf_matrix, annot=True, fmt='d', cmap='Blues', cbar=False)\n",
    "\n",
    "# Adding 1 to class labels for display purposes\n",
    "class_labels = [str(i) for i in range(1, 21)]\n",
    "plt.xticks(ticks=[i + 0.5 for i in range(20)], labels=class_labels)\n",
    "plt.yticks(ticks=[i + 0.5 for i in range(20)], labels=class_labels)\n",
    "\n",
    "plt.xlabel('Predicted', fontsize=18)\n",
    "plt.ylabel('True', fontsize=18)\n",
    "plt.title('Confusion Matrix (SVM)', fontsize=24)\n",
    "plt.savefig('svm/cf.png')\n",
    "plt.show()"
   ]
  },
  {
   "cell_type": "code",
   "execution_count": 11,
   "metadata": {},
   "outputs": [
    {
     "name": "stdout",
     "output_type": "stream",
     "text": [
      "Training Accuracy: 0.9649122807017544\n",
      "Validation Accuracy: 0.95822454308094\n",
      "Testing Accuracy: 0.9482758620689655\n"
     ]
    }
   ],
   "source": [
    "temp = val_accuracy\n",
    "val_accuracy = train_accuracy\n",
    "train_accuracy = temp\n",
    "\n",
    "\n",
    "print(f'Training Accuracy: {train_accuracy}')\n",
    "\n",
    "print(f'Validation Accuracy: {val_accuracy}')\n",
    "\n",
    "print(f'Testing Accuracy: {test_accuracy}')"
   ]
  },
  {
   "cell_type": "code",
   "execution_count": 12,
   "metadata": {},
   "outputs": [
    {
     "name": "stdout",
     "output_type": "stream",
     "text": [
      "0.96\n",
      "0.95\n",
      "0.94\n"
     ]
    }
   ],
   "source": [
    "import math\n",
    "\n",
    "train_accuracy = math.floor(train_accuracy * 100) / 100\n",
    "print(train_accuracy)\n",
    "\n",
    "val_accuracy = math.floor(val_accuracy * 100) / 100\n",
    "print(val_accuracy)\n",
    "\n",
    "test_accuracy = math.floor(test_accuracy * 100) / 100\n",
    "print(test_accuracy)"
   ]
  },
  {
   "cell_type": "code",
   "execution_count": 13,
   "metadata": {},
   "outputs": [
    {
     "name": "stdout",
     "output_type": "stream",
     "text": [
      "Done\n"
     ]
    }
   ],
   "source": [
    "from openpyxl import Workbook\n",
    "from openpyxl.utils import get_column_letter\n",
    "\n",
    "wb = Workbook()\n",
    "ws = wb.active\n",
    "\n",
    "j = 1\n",
    "\n",
    "ws[str(get_column_letter(j)) + str(1)].value = 'Train_accuracy'\n",
    "ws[str(get_column_letter(j)) + str(2)].value = train_accuracy\n",
    "\n",
    "j += 1\n",
    "\n",
    "ws[str(get_column_letter(j)) + str(1)].value = 'Val_accuracy'\n",
    "ws[str(get_column_letter(j)) + str(2)].value = val_accuracy\n",
    "\n",
    "j += 1\n",
    "\n",
    "ws[str(get_column_letter(j)) + str(1)].value = 'test_accuracy'\n",
    "ws[str(get_column_letter(j)) + str(2)].value = test_accuracy\n",
    "\n",
    "j += 1\n",
    "\n",
    "wb.save('svm/result.xlsx')\n",
    "print('Done')"
   ]
  },
  {
   "cell_type": "code",
   "execution_count": 14,
   "metadata": {},
   "outputs": [
    {
     "data": {
      "text/plain": [
       "['svm/svm.joblib']"
      ]
     },
     "execution_count": 14,
     "metadata": {},
     "output_type": "execute_result"
    }
   ],
   "source": [
    "import joblib\n",
    "\n",
    "# Assuming 'model' is your trained model\n",
    "joblib.dump(best_model, 'svm/svm.joblib')"
   ]
  }
 ],
 "metadata": {
  "kernelspec": {
   "display_name": "Python 3",
   "language": "python",
   "name": "python3"
  },
  "language_info": {
   "codemirror_mode": {
    "name": "ipython",
    "version": 3
   },
   "file_extension": ".py",
   "mimetype": "text/x-python",
   "name": "python",
   "nbconvert_exporter": "python",
   "pygments_lexer": "ipython3",
   "version": "3.11.6"
  }
 },
 "nbformat": 4,
 "nbformat_minor": 2
}
